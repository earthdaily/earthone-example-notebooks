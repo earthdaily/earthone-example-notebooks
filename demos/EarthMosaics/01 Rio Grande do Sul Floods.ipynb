{
 "cells": [
  {
   "cell_type": "code",
   "execution_count": null,
   "id": "e5dad0d7-da4d-464b-b55d-fdc2cd30b965",
   "metadata": {},
   "outputs": [],
   "source": [
    "import os, sys\n",
    "import spyndex\n",
    "import rasterio\n",
    "import rioxarray \n",
    "\n",
    "import geopandas as gpd\n",
    "import pandas as pd\n",
    "import numpy as np\n",
    "import xarray as xr\n",
    "\n",
    "from shapely.geometry import shape, box\n",
    "\n",
    "import matplotlib.pyplot as plt"
   ]
  },
  {
   "cell_type": "code",
   "execution_count": null,
   "id": "97c511a2-a750-43fe-8bb8-aae28dd48ad2",
   "metadata": {},
   "outputs": [],
   "source": [
    "import earthdaily.earthone as eo\n",
    "from earthdaily.earthone.catalog import MaskBand, Image, Product, properties as p\n",
    "from earthdaily.earthone.compute import Function"
   ]
  },
  {
   "cell_type": "markdown",
   "id": "5e87d25e-d8ec-4f6b-8b06-2093d7d7ec96",
   "metadata": {},
   "source": [
    "Setting global variables, including:\n",
    "* Input Product ID corresponding to the EarthDaily AI Ready EarthMosaics\n",
    "* List of bands to input into our NDVI-MNDWI calculation, including **green**, **nir**, **red**, and **swir16**\n",
    "* Output resolution, native Sentinel-2 res at 10 meters"
   ]
  },
  {
   "cell_type": "code",
   "execution_count": null,
   "id": "daddec05-45d5-49d8-be02-17bb2b81b1c8",
   "metadata": {},
   "outputs": [],
   "source": [
    "compute_image = f\"python{sys.version_info.major}.{sys.version_info.minor}:latest\""
   ]
  },
  {
   "cell_type": "code",
   "execution_count": null,
   "id": "99363938-e808-4e04-879f-741142a760ed",
   "metadata": {},
   "outputs": [],
   "source": [
    "COLLECTION = \"earthdaily:ai-ready-mosaics:sentinel-2\"\n",
    "BANDS = [\"green\", \"nir\", \"red\", \"swir16\"]\n",
    "RESOLUTION=10."
   ]
  },
  {
   "cell_type": "markdown",
   "id": "128722e8-2a35-452c-ada8-e57ff94ae72d",
   "metadata": {},
   "source": [
    "Input geometry, which is the extent of our EarthMosaic scene:"
   ]
  },
  {
   "cell_type": "code",
   "execution_count": null,
   "id": "410ebc56-32aa-4342-a276-6f9cebe45787",
   "metadata": {},
   "outputs": [],
   "source": [
    "geom = shape({\n",
    "    'type': 'Polygon',\n",
    "    'coordinates': [[\n",
    "        [-53.44996912333322, -29.066805892187226],\n",
    "        [-53.44996912333322, -30.244736984602106],\n",
    "        [-51.124606456600304, -30.244736984602106],\n",
    "        [-51.124606456600304, -29.066805892187226],\n",
    "        [-53.44996912333322, -29.066805892187226]\n",
    "    ]]\n",
    "})\n",
    "aoi = eo.geo.AOI(geom, resolution=100., crs=\"EPSG:3857\")"
   ]
  },
  {
   "cell_type": "markdown",
   "id": "94c09381-af90-4c89-8714-552189d323f8",
   "metadata": {},
   "source": [
    "Searching imagery from the EarthMosaics product, sorting by acquired date:"
   ]
  },
  {
   "cell_type": "code",
   "execution_count": null,
   "id": "d4f220bc-8e63-4c6a-ad71-3f4f15797b1f",
   "metadata": {},
   "outputs": [],
   "source": [
    "prod = Product.get(COLLECTION)\n",
    "ic = prod.images().intersects(aoi).sort('acquired').collect()\n",
    "dates = pd.to_datetime(list(ic.each.acquired))\n",
    "ic"
   ]
  },
  {
   "cell_type": "markdown",
   "id": "3c3ce6f1-f171-483f-8384-ea6a2ada23ce",
   "metadata": {},
   "source": [
    "Retrieving our data as an ndarray, including raster metadata to feed into rioxarray:"
   ]
  },
  {
   "cell_type": "code",
   "execution_count": null,
   "id": "040eb50d-cf89-4d07-ae5a-f0ec4dde53b3",
   "metadata": {},
   "outputs": [],
   "source": [
    "ndarr, info = ic.stack(BANDS, raster_info=True)\n",
    "ndarr.shape"
   ]
  },
  {
   "cell_type": "markdown",
   "id": "3c7250a7-787a-49f9-a781-c46af6805e31",
   "metadata": {
    "scrolled": true
   },
   "source": [
    "Creating an xarray DataArray from our data, including adding spatial extensions for interoperability with rasterio via rioxarray:"
   ]
  },
  {
   "cell_type": "code",
   "execution_count": null,
   "id": "4f453b20-c54e-4fb0-9110-349398cd7e30",
   "metadata": {},
   "outputs": [],
   "source": [
    "da = xr.DataArray(\n",
    "    ndarr, \n",
    "    dims=(\"time\", \"band\", \"y\", \"x\"),\n",
    "    coords={\"time\": dates, \"band\": BANDS},\n",
    "    name=\"data\"\n",
    ")\n",
    "da = da.rio.set_spatial_dims(x_dim=\"x\", y_dim=\"y\")\n",
    "da = da.rio.write_crs(aoi.crs, inplace=False)\n",
    "da = da.rio.write_transform(rasterio.Affine.from_gdal(*info[0]['geoTransform']), inplace=False)\n",
    "da = da.assign_coords(band=BANDS)\n",
    "da = da.sortby(\"time\")\n",
    "# da.isel(time=0).rio.to_raster(\"fcc.tif\")"
   ]
  },
  {
   "cell_type": "markdown",
   "id": "c712cf2c-9567-4fc7-9678-25c94e3386ec",
   "metadata": {},
   "source": [
    "Accessing a single date to plot imagery:"
   ]
  },
  {
   "cell_type": "code",
   "execution_count": null,
   "id": "4bf3f965-74d9-478a-8fae-e7a4cbaf62ca",
   "metadata": {},
   "outputs": [],
   "source": [
    "ds = da.to_dataset(dim=\"band\")\n",
    "# ds.isel(time=0)[['nir', 'red', 'green']].rio.to_raster(\"fcc.tif\")\n",
    "ds.isel(time=0)[['nir', 'red', 'green']].to_dataarray().plot.imshow(origin='upper')"
   ]
  },
  {
   "cell_type": "markdown",
   "id": "ff8cc07f-4748-4b7a-82ad-162d10469c28",
   "metadata": {},
   "source": [
    "Calculating NDVI-MNDWI using Spyndex, applying the calculations to all dates represented in our dataset:"
   ]
  },
  {
   "cell_type": "code",
   "execution_count": null,
   "id": "91e32566-d094-4c22-b5fe-c6dec6b4b0e3",
   "metadata": {},
   "outputs": [],
   "source": [
    "ndvimndwi = spyndex.computeIndex(index=\"MNDWI\", G=ds['green'], N=ds['nir'], R=ds['red'], S1=ds['swir16'])\n",
    "ndvimndwi = ndvimndwi.rio.write_crs(da.rio.crs, inplace=False)\n",
    "ndvimndwi = ndvimndwi.rio.write_transform(da.rio.transform(), inplace=False)\n",
    "ndvimndwi_band = ndvimndwi.expand_dims(band=[\"ndvimndwi\"])\n",
    "\n",
    "da_with_ndvimndwi = xr.concat([da, ndvimndwi_band], dim=\"band\")\n",
    "da_with_ndvimndwi = da_with_ndvimndwi.to_dataset(dim=\"band\")"
   ]
  },
  {
   "cell_type": "markdown",
   "id": "9325c60f-c9bd-490d-b6ea-c56935257b2a",
   "metadata": {},
   "source": [
    "And plotting the results:"
   ]
  },
  {
   "cell_type": "code",
   "execution_count": null,
   "id": "89e2c88b-3082-49aa-9e70-d45440ac5847",
   "metadata": {},
   "outputs": [],
   "source": [
    "fig, ax = plt.subplots(figsize=(10,10),nrows=2, ncols=2)\n",
    "da_with_ndvimndwi.isel(time=0)[['nir', 'red', 'green']].to_dataarray().plot.imshow(ax=ax[0][0], origin='upper')\n",
    "ax[0][0].set_title(\"PRE FCC\")\n",
    "da_with_ndvimndwi.isel(time=1)[['nir', 'red', 'green']].to_dataarray().plot.imshow(ax=ax[1][0], origin='upper')\n",
    "ax[1][0].set_title(\"POST FCC\")\n",
    "da_with_ndvimndwi.isel(time=0)['ndvimndwi'].plot.imshow(ax=ax[0][1], origin='upper', add_colorbar=False)\n",
    "ax[0][1].set_title(\"PRE NDVI-MNDWI\")\n",
    "da_with_ndvimndwi.isel(time=1)['ndvimndwi'].plot.imshow(ax=ax[1][1], origin='upper', add_colorbar=False)\n",
    "ax[1][1].set_title(\"POST NDVI-MNDWI\")\n",
    "for a in ax:\n",
    "    for x in a:\n",
    "        x.set_xticklabels([])\n",
    "        x.set_yticklabels([])\n",
    "        x.set_ylabel(None)\n",
    "        x.set_xlabel(None)"
   ]
  },
  {
   "cell_type": "markdown",
   "id": "7c8c9d19-b599-476e-b426-dbd20f81787d",
   "metadata": {},
   "source": [
    "Calculating the difference between these indices to arrive at a rough flooded extent:"
   ]
  },
  {
   "cell_type": "code",
   "execution_count": null,
   "id": "517a3430-5785-4f6b-9e28-4c0fe9fe1fdf",
   "metadata": {},
   "outputs": [],
   "source": [
    "# Last - first\n",
    "diff = da_with_ndvimndwi['ndvimndwi'].isel(time=-1) - da_with_ndvimndwi['ndvimndwi'].isel(time=0)\n",
    "MASK_THRESHOLD = float(diff.quantile(0.9))\n",
    "diff_binary = diff.where(diff>=MASK_THRESHOLD).astype(np.uint8)"
   ]
  },
  {
   "cell_type": "code",
   "execution_count": null,
   "id": "484d906c-e224-42f2-9128-e6bdf158a171",
   "metadata": {},
   "outputs": [],
   "source": [
    "fig, ax = plt.subplots()\n",
    "diff_binary.plot.imshow(origin='upper', cmap='viridis', add_colorbar=False, ax=ax)\n",
    "ax.set_title(\"Flooded Extent\")\n",
    "ax.set_xticklabels([])\n",
    "ax.set_yticklabels([])\n",
    "ax.set_xlabel(None)\n",
    "ax.set_ylabel(None)"
   ]
  },
  {
   "cell_type": "markdown",
   "id": "f568d10f-41ba-4db7-a3a7-faa668fa45a6",
   "metadata": {},
   "source": [
    "## Scaling on Batch Compute"
   ]
  },
  {
   "cell_type": "markdown",
   "id": "a918f873-8997-4b09-be97-051bf2f30fb9",
   "metadata": {},
   "source": [
    "Setting an output Product ID:"
   ]
  },
  {
   "cell_type": "code",
   "execution_count": null,
   "id": "c1489c8e-ea0f-42dd-acd2-4cd424f98748",
   "metadata": {},
   "outputs": [],
   "source": [
    "auth = eo.auth.Auth().payload\n",
    "out_pid = f\"{auth['org']}:ndvimndwi-rgs-test-v1-{auth['userid']}\"\n",
    "out_pid"
   ]
  },
  {
   "cell_type": "markdown",
   "id": "17c88929-f747-4c90-adbe-486554a41644",
   "metadata": {},
   "source": [
    "Deleting old iteration of this product, if applicable:"
   ]
  },
  {
   "cell_type": "code",
   "execution_count": null,
   "id": "f9fa4643-e43f-488e-8678-abb2103a76dd",
   "metadata": {},
   "outputs": [],
   "source": [
    "out_product = Product.get(out_pid)\n",
    "if out_product:\n",
    "    print(\"Product already exists, deleting old iteration\")\n",
    "    status = out_product.delete_related_objects()\n",
    "    if status:\n",
    "        status.wait_for_completion()\n",
    "    print(\"Deleted related objects\")\n",
    "    out_product.delete()\n",
    "    print(\"Deleted Product\")"
   ]
  },
  {
   "cell_type": "markdown",
   "id": "ab365aa1-eaa4-4c2d-9b13-e4d908b39ad4",
   "metadata": {},
   "source": [
    "Creating the output Product:"
   ]
  },
  {
   "cell_type": "code",
   "execution_count": null,
   "id": "dd5399e4-a605-4937-8353-23de97168c25",
   "metadata": {},
   "outputs": [],
   "source": [
    "out_product = Product.get_or_create(out_pid)\n",
    "out_product.name = \"Testing NDVI-MNDWI\"\n",
    "out_product.tags = [\"examples\"]\n",
    "out_product.readers = []\n",
    "out_product.save()\n",
    "out_product"
   ]
  },
  {
   "cell_type": "markdown",
   "id": "ad6e8312-d5ca-4ed4-82c5-814dee27833a",
   "metadata": {},
   "source": [
    "Creating the output Band **flood-extent**:"
   ]
  },
  {
   "cell_type": "code",
   "execution_count": null,
   "id": "d0ae1783-4500-4f23-8e45-b52ccd1bd657",
   "metadata": {},
   "outputs": [],
   "source": [
    "band = MaskBand.get_or_create(\n",
    "    id=f\"{out_product.id}:flood-extent\",\n",
    "    band_index=0,\n",
    "    data_type=eo.catalog.DataType.BYTE,\n",
    "    data_range=[0,1],\n",
    "    display_range=[0,1],\n",
    "    nodata=0,\n",
    "    resolution=eo.catalog.Resolution(\n",
    "        value=RESOLUTION, \n",
    "        unit=eo.catalog.ResolutionUnit.METERS\n",
    "    ),\n",
    ")\n",
    "band.save()"
   ]
  },
  {
   "cell_type": "markdown",
   "id": "81417859-339b-43bc-8e73-6ef3c415ec4d",
   "metadata": {},
   "source": [
    "Wrapping the NDVI-MNDWI methodology into a self-contained function, which accepts the following input parameters:\n",
    "* DLTile Key\n",
    "* Input Collection ID\n",
    "* Bands to retrieve\n",
    "* Mask Threshold below which is set to 0\n",
    "* Output Product ID to write these flood masks to"
   ]
  },
  {
   "cell_type": "code",
   "execution_count": null,
   "id": "7ed4145a-a68d-41ff-ab6e-881bf32f00f5",
   "metadata": {},
   "outputs": [],
   "source": [
    "def calculate_ndvimndwi(TILE_KEY, COLLECTION, BANDS, MASK_THRESHOLD, OUT_PID):\n",
    "    import earthdaily.earthone as eo\n",
    "    from earthdaily.earthone.catalog import Product, Image, properties as p\n",
    "    import pandas as pd\n",
    "    import xarray as xr\n",
    "    import numpy as np\n",
    "    import rioxarray\n",
    "    import rasterio\n",
    "    import spyndex\n",
    "    import os\n",
    "    \n",
    "    tile = eo.geo.DLTile.from_key(TILE_KEY)\n",
    "    out_fpath = f\"diff_{TILE_KEY.replace(':', '_')}.tif\"\n",
    "    print(f\"Processing tile: {TILE_KEY}\")\n",
    "    \n",
    "    prod = Product.get(COLLECTION)\n",
    "    ic = prod.images().intersects(tile).sort('acquired').collect()\n",
    "    dates = pd.to_datetime(list(ic.each.acquired))\n",
    "    ndarr, info = ic.stack(BANDS, raster_info=True)\n",
    "    print(\"Retrieved pixel data\")\n",
    "    da = xr.DataArray(\n",
    "        ndarr, \n",
    "        dims=(\"time\", \"band\", \"y\", \"x\"),\n",
    "        coords={\"time\": dates, \"band\": BANDS},\n",
    "        name=\"data\"\n",
    "    )\n",
    "    \n",
    "    da = da.rio.set_spatial_dims(x_dim=\"x\", y_dim=\"y\")\n",
    "    da = da.rio.write_crs(tile.crs, inplace=False)\n",
    "    da = da.rio.write_transform(rasterio.Affine.from_gdal(*info[0]['geoTransform']), inplace=False)\n",
    "    da = da.assign_coords(band=BANDS)\n",
    "    da = da.sortby(\"time\")\n",
    "\n",
    "    ds = da.to_dataset(dim=\"band\")\n",
    "    \n",
    "    ndvimndwi = spyndex.computeIndex(index=\"MNDWI\", G=ds['green'], N=ds['nir'], R=ds['red'], S1=ds['swir16'])\n",
    "    ndvimndwi = ndvimndwi.rio.write_crs(da.rio.crs, inplace=False)\n",
    "    ndvimndwi = ndvimndwi.rio.write_transform(da.rio.transform(), inplace=False)\n",
    "    ndvimndwi_band = ndvimndwi.expand_dims(band=[\"ndvimndwi\"])\n",
    "    \n",
    "    da_with_ndvimndwi = xr.concat([da, ndvimndwi_band], dim=\"band\")\n",
    "    da_with_ndvimndwi = da_with_ndvimndwi.to_dataset(dim=\"band\")\n",
    "\n",
    "    diff = da_with_ndvimndwi['ndvimndwi'].isel(time=-1) - da_with_ndvimndwi['ndvimndwi'].isel(time=0)\n",
    "    threshold = diff.quantile(0.8)\n",
    "    diff_binary = diff.where(diff>=threshold).astype(np.uint8)\n",
    "    \n",
    "    print(f\"Calculated difference, masking to {MASK_THRESHOLD}\")\n",
    "    \n",
    "    diff_binary = diff.where(diff>=MASK_THRESHOLD).astype(np.uint8)\n",
    "    diff_binary.rio.to_raster(\n",
    "        out_fpath,\n",
    "        dtype=\"uint8\",\n",
    "        compress=\"deflate\",\n",
    "        predictor=2,\n",
    "        zlevel=6,\n",
    "        tiled=True,\n",
    "        blockxsize=256,\n",
    "        blockysize=256,\n",
    "        BIGTIFF=\"IF_SAFER\",\n",
    "    )\n",
    "    print(f\"Saved {out_fpath}\")\n",
    "    image = Image(\n",
    "        id=f\"{OUT_PID}:{TILE_KEY.replace(':', '_')}\"\n",
    "    )\n",
    "    image.acquired = ic[-1].acquired\n",
    "    image.extra_properties = {\"MASK_THRESHOLD\": MASK_THRESHOLD}\n",
    "    upload = image.upload([out_fpath], overwrite=True)\n",
    "    upload.wait_for_completion()\n",
    "    print(f\"Upload: {upload.status}ful\")\n",
    "    os.remove(out_fpath)\n",
    "    return image.id"
   ]
  },
  {
   "cell_type": "markdown",
   "id": "7c4ec49a-7a02-4597-b71c-377a3ad9ebd8",
   "metadata": {},
   "source": [
    "Tiling up the geometry using [`DLTile`s]():"
   ]
  },
  {
   "cell_type": "code",
   "execution_count": null,
   "id": "efccb77a-abcb-488a-ad57-c00daee35656",
   "metadata": {},
   "outputs": [],
   "source": [
    "tiles = eo.geo.DLTile.from_shape(geom, resolution=10., tilesize=2048, pad=0)\n",
    "len(tiles)"
   ]
  },
  {
   "cell_type": "markdown",
   "id": "bfbc2e27-5b23-40a8-ab41-34ffa5ef31a3",
   "metadata": {},
   "source": [
    "Getting a sample tile to investigate our scene at full resolution:"
   ]
  },
  {
   "cell_type": "code",
   "execution_count": null,
   "id": "7a9bd338-3743-497a-b3c0-239bcfdf67d9",
   "metadata": {},
   "outputs": [],
   "source": [
    "tile = tiles[20]"
   ]
  },
  {
   "cell_type": "code",
   "execution_count": null,
   "id": "79fd98a0-28ec-4e2c-bdbf-11dc541c31c2",
   "metadata": {},
   "outputs": [],
   "source": [
    "fig, ax = plt.subplots()\n",
    "gpd.GeoDataFrame({\"geometry\":[geom]}).plot(ax=ax)\n",
    "gpd.GeoDataFrame({\"geometry\": list(t.geometry for t in tiles)}).plot(ax=ax, facecolor='none', edgecolor='k')\n",
    "gpd.GeoDataFrame({\"geometry\": [tile.geometry]}).plot(ax=ax, facecolor='none', edgecolor='r')"
   ]
  },
  {
   "cell_type": "markdown",
   "id": "b6f73157-ce01-4300-969e-fb318fa66461",
   "metadata": {},
   "source": [
    "Testing locally:"
   ]
  },
  {
   "cell_type": "code",
   "execution_count": null,
   "id": "94642b9f-afaa-4081-814c-feeea31cf03d",
   "metadata": {},
   "outputs": [],
   "source": [
    "img_id = calculate_ndvimndwi(tile.key, COLLECTION, BANDS, 0.8, out_pid)\n",
    "plt.imshow(Image.get(img_id).ndarray('flood-extent')[0])"
   ]
  },
  {
   "cell_type": "markdown",
   "id": "00223135-90e8-4793-9c62-f7c566def3bd",
   "metadata": {},
   "source": [
    "We _could_ wait forever and iterate in a for loop:"
   ]
  },
  {
   "cell_type": "code",
   "execution_count": null,
   "id": "86bbeb93-7695-4695-9c5a-6037ca62cc8e",
   "metadata": {
    "scrolled": true
   },
   "outputs": [],
   "source": [
    "# for tile in tiles:\n",
    "#     calculate_ndvimndwi(tile.key, COLLECTION, BANDS, out_pid)"
   ]
  },
  {
   "cell_type": "markdown",
   "id": "e3b369fb-a96f-4f47-ba14-af839042d5e9",
   "metadata": {},
   "source": [
    "Or deploy this using Compute by creating a `Function` which will map asynchronously across each of our tiles:"
   ]
  },
  {
   "cell_type": "code",
   "execution_count": null,
   "id": "6f373d79-8789-46a8-a901-0a490396527d",
   "metadata": {},
   "outputs": [],
   "source": [
    "async_func = Function(\n",
    "    calculate_ndvimndwi,\n",
    "    name=\"NDVI-MNDWI\",\n",
    "    image=compute_image,\n",
    "    cpus=1,\n",
    "    memory=2,\n",
    "    timeout=300,\n",
    "    maximum_concurrency=20,\n",
    "    retry_count=0,\n",
    "    requirements=[\"rioxarray\",\"spyndex\"],\n",
    ")\n",
    "async_func.save()\n",
    "print(f\"Saved {async_func.id}\")"
   ]
  },
  {
   "cell_type": "code",
   "execution_count": null,
   "id": "5cfb65df-4c27-4fa9-bd9a-22ef22a3b5dd",
   "metadata": {},
   "outputs": [],
   "source": [
    "args = [(t.key, COLLECTION, BANDS, MASK_THRESHOLD, out_pid) for t in tiles]\n",
    "len(args)"
   ]
  },
  {
   "cell_type": "code",
   "execution_count": null,
   "id": "32de3753-c6db-4038-9ac6-bc3360b0ef4f",
   "metadata": {},
   "outputs": [],
   "source": [
    "jobs = async_func.map(args)\n",
    "len(jobs)"
   ]
  },
  {
   "cell_type": "markdown",
   "id": "1cc86d26-a122-467a-b06b-3bd5b57f7747",
   "metadata": {},
   "source": [
    "Navigate to [earthone.earthdaily.com/compute](https://earthone.earthdaily.com/compute) to track your Function's build and progress."
   ]
  },
  {
   "cell_type": "code",
   "execution_count": null,
   "id": "17bda81c-5437-40d6-86fd-9009960c44b5",
   "metadata": {},
   "outputs": [],
   "source": [
    "import earthdaily.earthone.dynamic_compute as dc\n",
    "from earthdaily.earthone.dynamic_compute import Mosaic"
   ]
  },
  {
   "cell_type": "code",
   "execution_count": null,
   "id": "7b8af934-acad-4dd7-b15e-5d5c8eea16aa",
   "metadata": {},
   "outputs": [],
   "source": [
    "pre_start, pre_end = ('2024-02-20', '2024-02-22')\n",
    "post_start, post_end = ('2024-05-05', '2024-05-07')"
   ]
  },
  {
   "cell_type": "code",
   "execution_count": null,
   "id": "f3431143-72ef-476b-b1d3-47ad178c657a",
   "metadata": {},
   "outputs": [],
   "source": [
    "pre_mosaic = Mosaic.from_product_bands(COLLECTION, BANDS, start_datetime=pre_start, end_datetime=pre_end)\n",
    "post_mosaic = Mosaic.from_product_bands(COLLECTION, BANDS, start_datetime=post_start, end_datetime=post_end)"
   ]
  },
  {
   "cell_type": "code",
   "execution_count": null,
   "id": "b4c2f84d-5f49-465e-a694-b94e8fb28111",
   "metadata": {},
   "outputs": [],
   "source": [
    "m = dc.map\n",
    "m.center = -29.9648, -51.4042\n",
    "m.zoom = 12"
   ]
  },
  {
   "cell_type": "code",
   "execution_count": null,
   "id": "711ebd7e-d954-4945-9a8b-f4da6af31721",
   "metadata": {},
   "outputs": [],
   "source": [
    "pre_mosaic.pick_bands(\"nir red green\").visualize(\"PRE FCC\", m)\n",
    "post_mosaic.pick_bands(\"nir red green\").visualize(\"POST FCC\", m)"
   ]
  },
  {
   "cell_type": "code",
   "execution_count": null,
   "id": "a898a602-5991-4361-b73b-7a12c6141eae",
   "metadata": {},
   "outputs": [],
   "source": [
    "out_mosaic = Mosaic.from_product_bands(out_pid, \"flood-extent\")\n",
    "out_mosaic.pick_bands(\"flood-extent\").visualize(\"Flood Mask\", m, colormap='Blues', scales=[0,1])"
   ]
  },
  {
   "cell_type": "code",
   "execution_count": null,
   "id": "71b0a280-430f-412a-893e-9a1defbdc9a0",
   "metadata": {},
   "outputs": [],
   "source": [
    "m"
   ]
  },
  {
   "cell_type": "code",
   "execution_count": null,
   "id": "b476e071-609a-4807-83dd-34330eed18d8",
   "metadata": {},
   "outputs": [],
   "source": [
    "# https://app.earthone.earthdaily.com/explorer?id=earthdaily:f108d742-528d-4a51-b023-645d87063a35"
   ]
  },
  {
   "cell_type": "code",
   "execution_count": null,
   "id": "33f88637-609a-45bf-96d6-b793943bba1a",
   "metadata": {},
   "outputs": [],
   "source": []
  },
  {
   "cell_type": "code",
   "execution_count": null,
   "id": "e9b207ac-659b-4218-8c99-ab8932ef0899",
   "metadata": {},
   "outputs": [],
   "source": []
  }
 ],
 "metadata": {
  "kernelspec": {
   "display_name": "Python 3 (ipykernel)",
   "language": "python",
   "name": "python3"
  },
  "language_info": {
   "codemirror_mode": {
    "name": "ipython",
    "version": 3
   },
   "file_extension": ".py",
   "mimetype": "text/x-python",
   "name": "python",
   "nbconvert_exporter": "python",
   "pygments_lexer": "ipython3",
   "version": "3.11.11"
  }
 },
 "nbformat": 4,
 "nbformat_minor": 5
}
